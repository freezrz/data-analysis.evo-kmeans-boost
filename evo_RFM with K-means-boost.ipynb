{
 "cells": [
  {
   "cell_type": "code",
   "execution_count": 1,
   "metadata": {
    "execution": {
     "iopub.execute_input": "2023-04-30T06:31:05.117776Z",
     "iopub.status.busy": "2023-04-30T06:31:05.117463Z",
     "iopub.status.idle": "2023-04-30T06:31:47.185128Z",
     "shell.execute_reply": "2023-04-30T06:31:47.180819Z",
     "shell.execute_reply.started": "2023-04-30T06:31:05.117751Z"
    },
    "tags": []
   },
   "outputs": [
    {
     "data": {
      "application/vnd.jupyter.widget-view+json": {
       "model_id": "4953b8d764c5442d8b2d6fb78c265c9b",
       "version_major": 2,
       "version_minor": 0
      },
      "text/plain": [
       "VBox()"
      ]
     },
     "metadata": {},
     "output_type": "display_data"
    },
    {
     "name": "stdout",
     "output_type": "stream",
     "text": [
      "Starting Spark application\n"
     ]
    },
    {
     "data": {
      "text/html": [
       "<table>\n<tbody><tr><th>ID</th><th>YARN Application ID</th><th>Kind</th><th>State</th><th>Spark UI</th><th>Driver log</th><th>User</th><th>Current session?</th></tr><tr><td>1</td><td>application_1682827100408_0002</td><td>pyspark</td><td>idle</td><td><a target=\"_blank\" href=\"http://ip-172-31-14-189.ap-southeast-1.compute.internal:20888/proxy/application_1682827100408_0002/\" class=\"emr-proxy-link j-1KR9BD1Z2VE4J application_1682827100408_0002\" emr-resource=\"j-1KR9BD1Z2VE4J\n\" application-id=\"application_1682827100408_0002\">Link</a></td><td><a target=\"_blank\" href=\"http://ip-172-31-14-189.ap-southeast-1.compute.internal:8042/node/containerlogs/container_1682827100408_0002_01_000001/livy\">Link</a></td><td>None</td><td>✔</td></tr></tbody></table>"
      ],
      "text/plain": [
       "<IPython.core.display.HTML object>"
      ]
     },
     "metadata": {},
     "output_type": "display_data"
    },
    {
     "data": {
      "application/vnd.jupyter.widget-view+json": {
       "model_id": "",
       "version_major": 2,
       "version_minor": 0
      },
      "text/plain": [
       "FloatProgress(value=0.0, bar_style='info', description='Progress:', layout=Layout(height='25px', width='50%'),…"
      ]
     },
     "metadata": {},
     "output_type": "display_data"
    },
    {
     "name": "stdout",
     "output_type": "stream",
     "text": [
      "SparkSession available as 'spark'.\n"
     ]
    },
    {
     "data": {
      "application/vnd.jupyter.widget-view+json": {
       "model_id": "",
       "version_major": 2,
       "version_minor": 0
      },
      "text/plain": [
       "FloatProgress(value=0.0, bar_style='info', description='Progress:', layout=Layout(height='25px', width='50%'),…"
      ]
     },
     "metadata": {},
     "output_type": "display_data"
    }
   ],
   "source": [
    "import numpy as np\n",
    "import pandas as pd\n",
    "import matplotlib\n",
    "# %%local\n",
    "# %matplotlib inline\n",
    "import matplotlib.pyplot as plt\n",
    "# %matplot plt\n",
    "# plt.show()\n",
    "# from IPython import get_ipython\n",
    "# get_ipython().run_line_magic('matplotlib', 'inline')\n",
    "# get_ipython().magic(u'matplotlib inline')\n",
    "import seaborn as sns\n",
    "\n",
    "import pyspark\n",
    "from pyspark.sql import SparkSession\n",
    "\n",
    "spark = SparkSession.builder.appName(\"PySpark\").getOrCreate()\n",
    "\n",
    "# spark"
   ]
  },
  {
   "cell_type": "code",
   "execution_count": 2,
   "metadata": {
    "execution": {
     "iopub.execute_input": "2023-04-30T06:31:47.187033Z",
     "iopub.status.busy": "2023-04-30T06:31:47.186710Z",
     "iopub.status.idle": "2023-04-30T06:31:47.244713Z",
     "shell.execute_reply": "2023-04-30T06:31:47.243782Z",
     "shell.execute_reply.started": "2023-04-30T06:31:47.186998Z"
    },
    "tags": []
   },
   "outputs": [
    {
     "data": {
      "application/vnd.jupyter.widget-view+json": {
       "model_id": "af94e67e260b426d906185f66ddcfaf1",
       "version_major": 2,
       "version_minor": 0
      },
      "text/plain": [
       "VBox()"
      ]
     },
     "metadata": {},
     "output_type": "display_data"
    },
    {
     "data": {
      "application/vnd.jupyter.widget-view+json": {
       "model_id": "",
       "version_major": 2,
       "version_minor": 0
      },
      "text/plain": [
       "FloatProgress(value=0.0, bar_style='info', description='Progress:', layout=Layout(height='25px', width='50%'),…"
      ]
     },
     "metadata": {},
     "output_type": "display_data"
    }
   ],
   "source": [
    "from pyspark.sql import functions as F\n",
    "from pyspark.sql.types import *"
   ]
  },
  {
   "cell_type": "code",
   "execution_count": 3,
   "metadata": {
    "execution": {
     "iopub.execute_input": "2023-04-30T06:31:47.247109Z",
     "iopub.status.busy": "2023-04-30T06:31:47.246506Z",
     "iopub.status.idle": "2023-04-30T06:31:48.017302Z",
     "shell.execute_reply": "2023-04-30T06:31:48.016359Z",
     "shell.execute_reply.started": "2023-04-30T06:31:47.247039Z"
    },
    "tags": []
   },
   "outputs": [
    {
     "data": {
      "application/vnd.jupyter.widget-view+json": {
       "model_id": "deb6e833ab0c45c0bd7b2cfc90b5a821",
       "version_major": 2,
       "version_minor": 0
      },
      "text/plain": [
       "VBox()"
      ]
     },
     "metadata": {},
     "output_type": "display_data"
    },
    {
     "data": {
      "application/vnd.jupyter.widget-view+json": {
       "model_id": "",
       "version_major": 2,
       "version_minor": 0
      },
      "text/plain": [
       "FloatProgress(value=0.0, bar_style='info', description='Progress:', layout=Layout(height='25px', width='50%'),…"
      ]
     },
     "metadata": {},
     "output_type": "display_data"
    }
   ],
   "source": [
    "from pyspark.ml.clustering import KMeans\n",
    "from pyspark.ml.feature import VectorAssembler\n",
    "from pyspark.ml.feature import StandardScaler\n",
    "from pyspark.ml.evaluation import ClusteringEvaluator"
   ]
  },
  {
   "cell_type": "code",
   "execution_count": 4,
   "metadata": {
    "execution": {
     "iopub.execute_input": "2023-04-30T06:31:48.019418Z",
     "iopub.status.busy": "2023-04-30T06:31:48.019116Z",
     "iopub.status.idle": "2023-04-30T06:31:48.096918Z",
     "shell.execute_reply": "2023-04-30T06:31:48.095971Z",
     "shell.execute_reply.started": "2023-04-30T06:31:48.019387Z"
    },
    "tags": []
   },
   "outputs": [
    {
     "data": {
      "application/vnd.jupyter.widget-view+json": {
       "model_id": "bfd03440408844ba9806ecdd49c899ee",
       "version_major": 2,
       "version_minor": 0
      },
      "text/plain": [
       "VBox()"
      ]
     },
     "metadata": {},
     "output_type": "display_data"
    },
    {
     "data": {
      "application/vnd.jupyter.widget-view+json": {
       "model_id": "",
       "version_major": 2,
       "version_minor": 0
      },
      "text/plain": [
       "FloatProgress(value=0.0, bar_style='info', description='Progress:', layout=Layout(height='25px', width='50%'),…"
      ]
     },
     "metadata": {},
     "output_type": "display_data"
    }
   ],
   "source": [
    "def printdf(df, l=5):\n",
    "    return df.limit(l).toPandas()\n",
    "\n",
    "def nullcount(df):\n",
    "    return {col: df.filter(df[col].isNull()).count() for col in df.columns}\n",
    "\n",
    "def shape(df):\n",
    "    print((df.count(), len(df.columns)))"
   ]
  },
  {
   "cell_type": "markdown",
   "metadata": {},
   "source": [
    "# Load data\n",
    "**dataset from RFM with PySpark**"
   ]
  },
  {
   "cell_type": "code",
   "execution_count": 23,
   "metadata": {
    "execution": {
     "iopub.execute_input": "2023-04-30T06:33:46.924217Z",
     "iopub.status.busy": "2023-04-30T06:33:46.923911Z",
     "iopub.status.idle": "2023-04-30T06:34:02.306436Z",
     "shell.execute_reply": "2023-04-30T06:34:02.305281Z",
     "shell.execute_reply.started": "2023-04-30T06:33:46.924192Z"
    },
    "tags": []
   },
   "outputs": [
    {
     "data": {
      "application/vnd.jupyter.widget-view+json": {
       "model_id": "b075b5319e7746e8a2facc00a2c8082d",
       "version_major": 2,
       "version_minor": 0
      },
      "text/plain": [
       "VBox()"
      ]
     },
     "metadata": {},
     "output_type": "display_data"
    },
    {
     "data": {
      "application/vnd.jupyter.widget-view+json": {
       "model_id": "",
       "version_major": 2,
       "version_minor": 0
      },
      "text/plain": [
       "FloatProgress(value=0.0, bar_style='info', description='Progress:', layout=Layout(height='25px', width='50%'),…"
      ]
     },
     "metadata": {},
     "output_type": "display_data"
    },
    {
     "name": "stdout",
     "output_type": "stream",
     "text": [
      "   user_id  Recency  Frequency  Monetary\n",
      "0        5       59         19  17923.42\n",
      "1       31       81         10   3181.85\n",
      "2       75      295          2    765.00\n",
      "3       89      356          1    500.00\n",
      "4      144       72         17  10750.06"
     ]
    }
   ],
   "source": [
    "rfm_numbers = spark.read.csv(f\"s3://athenapyspark-rfm-analysis-result/boost-analysis/evo_rfm_numbers.csv\", \n",
    "                             inferSchema=True, \n",
    "                             header=True)\n",
    "printdf(rfm_numbers)"
   ]
  },
  {
   "cell_type": "markdown",
   "metadata": {},
   "source": [
    "<!-- # Prepare data -->"
   ]
  },
  {
   "cell_type": "markdown",
   "metadata": {},
   "source": [
    "# Inspect"
   ]
  },
  {
   "cell_type": "code",
   "execution_count": 24,
   "metadata": {
    "execution": {
     "iopub.execute_input": "2023-04-30T06:34:41.357738Z",
     "iopub.status.busy": "2023-04-30T06:34:41.357431Z",
     "iopub.status.idle": "2023-04-30T06:34:42.131337Z",
     "shell.execute_reply": "2023-04-30T06:34:42.130406Z",
     "shell.execute_reply.started": "2023-04-30T06:34:41.357714Z"
    },
    "tags": []
   },
   "outputs": [
    {
     "data": {
      "application/vnd.jupyter.widget-view+json": {
       "model_id": "633fc13f03a64b728006d66a310f40e9",
       "version_major": 2,
       "version_minor": 0
      },
      "text/plain": [
       "VBox()"
      ]
     },
     "metadata": {},
     "output_type": "display_data"
    },
    {
     "data": {
      "application/vnd.jupyter.widget-view+json": {
       "model_id": "",
       "version_major": 2,
       "version_minor": 0
      },
      "text/plain": [
       "FloatProgress(value=0.0, bar_style='info', description='Progress:', layout=Layout(height='25px', width='50%'),…"
      ]
     },
     "metadata": {},
     "output_type": "display_data"
    },
    {
     "name": "stdout",
     "output_type": "stream",
     "text": [
      "          user_id     Recency  Frequency      Monetary\n",
      "count   36.000000   36.000000  36.000000     36.000000\n",
      "mean   329.500000  128.527778   8.361111   5370.250303\n",
      "std    175.338448   93.640494   9.553317   8102.575031\n",
      "min      5.000000   59.000000   1.000000      0.020000\n",
      "25%    191.250000   68.500000   2.000000    400.000000\n",
      "50%    320.000000   75.000000   5.500000   1128.150000\n",
      "75%    510.250000  172.500000  11.000000   8122.952500\n",
      "max    597.000000  366.000000  41.000000  36631.610000"
     ]
    }
   ],
   "source": [
    "df_rfm_numbers = rfm_numbers.toPandas()\n",
    "df_rfm_numbers.describe()"
   ]
  },
  {
   "cell_type": "code",
   "execution_count": 25,
   "metadata": {
    "execution": {
     "iopub.execute_input": "2023-04-30T06:34:46.624947Z",
     "iopub.status.busy": "2023-04-30T06:34:46.624612Z",
     "iopub.status.idle": "2023-04-30T06:34:47.392392Z",
     "shell.execute_reply": "2023-04-30T06:34:47.391651Z",
     "shell.execute_reply.started": "2023-04-30T06:34:46.624921Z"
    },
    "tags": []
   },
   "outputs": [
    {
     "data": {
      "application/vnd.jupyter.widget-view+json": {
       "model_id": "fe4d078dc65c4243820b00511f7990a8",
       "version_major": 2,
       "version_minor": 0
      },
      "text/plain": [
       "VBox()"
      ]
     },
     "metadata": {},
     "output_type": "display_data"
    },
    {
     "data": {
      "application/vnd.jupyter.widget-view+json": {
       "model_id": "",
       "version_major": 2,
       "version_minor": 0
      },
      "text/plain": [
       "FloatProgress(value=0.0, bar_style='info', description='Progress:', layout=Layout(height='25px', width='50%'),…"
      ]
     },
     "metadata": {},
     "output_type": "display_data"
    }
   ],
   "source": [
    "fig, ax = plt.subplots(1, 3, figsize=(16, 8))\n",
    "\n",
    "# Recency distribution plot\n",
    "sns.histplot(df_rfm_numbers['Recency'], kde=True, ax=ax[0])\n",
    "\n",
    "# Frequency distribution plot\n",
    "sns.histplot(df_rfm_numbers.query('Frequency < 1000')['Frequency'], kde=True, ax=ax[1])\n",
    "\n",
    "# Monetary distribution plot\n",
    "sns.histplot(df_rfm_numbers.query('Monetary < 10000')['Monetary'], kde=True, ax=ax[2])\n",
    "\n",
    "import boto3\n",
    "s3client=boto3.client('s3')\n",
    "fig.savefig('kmeans_distribution.png')\n",
    "s3client.upload_file('kmeans_distribution.png', 'evo-kmeans-analysis', 'boost-analysis/analysis-results/kmeans_distribution.png')\n"
   ]
  },
  {
   "cell_type": "markdown",
   "metadata": {},
   "source": [
    "# K-Means Clustering"
   ]
  },
  {
   "cell_type": "code",
   "execution_count": 26,
   "metadata": {
    "execution": {
     "iopub.execute_input": "2023-04-30T06:35:02.892228Z",
     "iopub.status.busy": "2023-04-30T06:35:02.891923Z",
     "iopub.status.idle": "2023-04-30T06:35:03.157545Z",
     "shell.execute_reply": "2023-04-30T06:35:03.156798Z",
     "shell.execute_reply.started": "2023-04-30T06:35:02.892203Z"
    },
    "tags": []
   },
   "outputs": [
    {
     "data": {
      "application/vnd.jupyter.widget-view+json": {
       "model_id": "8ae3341efa414aa3926e4388a2510eab",
       "version_major": 2,
       "version_minor": 0
      },
      "text/plain": [
       "VBox()"
      ]
     },
     "metadata": {},
     "output_type": "display_data"
    },
    {
     "data": {
      "application/vnd.jupyter.widget-view+json": {
       "model_id": "",
       "version_major": 2,
       "version_minor": 0
      },
      "text/plain": [
       "FloatProgress(value=0.0, bar_style='info', description='Progress:', layout=Layout(height='25px', width='50%'),…"
      ]
     },
     "metadata": {},
     "output_type": "display_data"
    }
   ],
   "source": [
    "# Since log transformation doesn't work with negative and zero values, lets get rid of negative and zeros\n",
    "\n",
    "rfm_data = (\n",
    "    rfm_numbers.withColumn(\n",
    "        \"Monetary\", \n",
    "        F.when(F.col(\"Monetary\") <= 0, 1)\n",
    "         .otherwise(F.col(\"Monetary\")))\n",
    ")\n",
    "\n",
    "# rfm_data = rfm_numbers\n",
    "# printdf(rfm_data)"
   ]
  },
  {
   "cell_type": "markdown",
   "metadata": {},
   "source": [
    "# Elbow Analysis"
   ]
  },
  {
   "cell_type": "code",
   "execution_count": 27,
   "metadata": {
    "execution": {
     "iopub.execute_input": "2023-04-30T06:35:04.681930Z",
     "iopub.status.busy": "2023-04-30T06:35:04.681482Z",
     "iopub.status.idle": "2023-04-30T06:35:05.472188Z",
     "shell.execute_reply": "2023-04-30T06:35:05.471384Z",
     "shell.execute_reply.started": "2023-04-30T06:35:04.681880Z"
    },
    "tags": []
   },
   "outputs": [
    {
     "data": {
      "application/vnd.jupyter.widget-view+json": {
       "model_id": "343bee4d5a29403ea67a8e2c6228ef9f",
       "version_major": 2,
       "version_minor": 0
      },
      "text/plain": [
       "VBox()"
      ]
     },
     "metadata": {},
     "output_type": "display_data"
    },
    {
     "data": {
      "application/vnd.jupyter.widget-view+json": {
       "model_id": "",
       "version_major": 2,
       "version_minor": 0
      },
      "text/plain": [
       "FloatProgress(value=0.0, bar_style='info', description='Progress:', layout=Layout(height='25px', width='50%'),…"
      ]
     },
     "metadata": {},
     "output_type": "display_data"
    },
    {
     "name": "stdout",
     "output_type": "stream",
     "text": [
      "   user_id  Recency  Frequency  Monetary\n",
      "0        5       59         19  17923.42\n",
      "1       31       81         10   3181.85\n",
      "2       75      295          2    765.00\n",
      "3       89      356          1    500.00\n",
      "4      144       72         17  10750.06"
     ]
    }
   ],
   "source": [
    "features = rfm_data.columns[1:]\n",
    "\n",
    "printdf(rfm_data)"
   ]
  },
  {
   "cell_type": "code",
   "execution_count": 28,
   "metadata": {
    "execution": {
     "iopub.execute_input": "2023-04-30T06:35:06.127619Z",
     "iopub.status.busy": "2023-04-30T06:35:06.127309Z",
     "iopub.status.idle": "2023-04-30T06:35:07.410806Z",
     "shell.execute_reply": "2023-04-30T06:35:07.409930Z",
     "shell.execute_reply.started": "2023-04-30T06:35:06.127595Z"
    },
    "tags": []
   },
   "outputs": [
    {
     "data": {
      "application/vnd.jupyter.widget-view+json": {
       "model_id": "e2d257f916f44f03a22d057aa5acba53",
       "version_major": 2,
       "version_minor": 0
      },
      "text/plain": [
       "VBox()"
      ]
     },
     "metadata": {},
     "output_type": "display_data"
    },
    {
     "data": {
      "application/vnd.jupyter.widget-view+json": {
       "model_id": "",
       "version_major": 2,
       "version_minor": 0
      },
      "text/plain": [
       "FloatProgress(value=0.0, bar_style='info', description='Progress:', layout=Layout(height='25px', width='50%'),…"
      ]
     },
     "metadata": {},
     "output_type": "display_data"
    },
    {
     "name": "stdout",
     "output_type": "stream",
     "text": [
      "   user_id                      rfm_features\n",
      "0        5  [59.0, 19.0, 17923.420000000002]\n",
      "1       31  [81.0, 10.0, 3181.8500000000004]\n",
      "2       75               [295.0, 2.0, 765.0]\n",
      "3       89               [356.0, 1.0, 500.0]\n",
      "4      144            [72.0, 17.0, 10750.06]"
     ]
    }
   ],
   "source": [
    "assembler = VectorAssembler(\n",
    "    inputCols=features, \n",
    "    outputCol=\"rfm_features\")\n",
    "\n",
    "assembled_data = assembler.transform(rfm_data)\n",
    "\n",
    "assembled_data = assembled_data.select('user_id', 'rfm_features')\n",
    "\n",
    "printdf(assembled_data)"
   ]
  },
  {
   "cell_type": "code",
   "execution_count": 29,
   "metadata": {
    "execution": {
     "iopub.execute_input": "2023-04-30T06:35:07.413237Z",
     "iopub.status.busy": "2023-04-30T06:35:07.412456Z",
     "iopub.status.idle": "2023-04-30T06:35:10.737954Z",
     "shell.execute_reply": "2023-04-30T06:35:10.737062Z",
     "shell.execute_reply.started": "2023-04-30T06:35:07.413200Z"
    },
    "tags": []
   },
   "outputs": [
    {
     "data": {
      "application/vnd.jupyter.widget-view+json": {
       "model_id": "05da7a5a8b7c4e1c9bc345eb3f487f14",
       "version_major": 2,
       "version_minor": 0
      },
      "text/plain": [
       "VBox()"
      ]
     },
     "metadata": {},
     "output_type": "display_data"
    },
    {
     "data": {
      "application/vnd.jupyter.widget-view+json": {
       "model_id": "",
       "version_major": 2,
       "version_minor": 0
      },
      "text/plain": [
       "FloatProgress(value=0.0, bar_style='info', description='Progress:', layout=Layout(height='25px', width='50%'),…"
      ]
     },
     "metadata": {},
     "output_type": "display_data"
    },
    {
     "name": "stdout",
     "output_type": "stream",
     "text": [
      "   user_id  ...                                   rfm_standardized\n",
      "0        5  ...  [0.6300692965006142, 1.988837933331324, 2.2120...\n",
      "1       31  ...  [0.8650103901110127, 1.0467568070164863, 0.392...\n",
      "2       75  ...  [3.1503464825030707, 0.20935136140329727, 0.09...\n",
      "3       89  ...  [3.8017740602409935, 0.10467568070164864, 0.06...\n",
      "4      144  ...  [0.7688981245431223, 1.7794865719280268, 1.326...\n",
      "\n",
      "[5 rows x 3 columns]"
     ]
    }
   ],
   "source": [
    "scaler = StandardScaler(inputCol='rfm_features', outputCol='rfm_standardized')\n",
    "\n",
    "data_scale = scaler.fit(assembled_data)\n",
    "\n",
    "scaled_data = data_scale.transform(assembled_data)\n",
    "\n",
    "printdf(scaled_data)"
   ]
  },
  {
   "cell_type": "code",
   "execution_count": 30,
   "metadata": {
    "execution": {
     "iopub.execute_input": "2023-04-30T06:35:10.740314Z",
     "iopub.status.busy": "2023-04-30T06:35:10.739711Z",
     "iopub.status.idle": "2023-04-30T06:35:32.426350Z",
     "shell.execute_reply": "2023-04-30T06:35:32.425262Z",
     "shell.execute_reply.started": "2023-04-30T06:35:10.740276Z"
    },
    "tags": []
   },
   "outputs": [
    {
     "data": {
      "application/vnd.jupyter.widget-view+json": {
       "model_id": "80f6849e327d4e0aa18a07b75eba8fa0",
       "version_major": 2,
       "version_minor": 0
      },
      "text/plain": [
       "VBox()"
      ]
     },
     "metadata": {},
     "output_type": "display_data"
    },
    {
     "data": {
      "application/vnd.jupyter.widget-view+json": {
       "model_id": "",
       "version_major": 2,
       "version_minor": 0
      },
      "text/plain": [
       "FloatProgress(value=0.0, bar_style='info', description='Progress:', layout=Layout(height='25px', width='50%'),…"
      ]
     },
     "metadata": {},
     "output_type": "display_data"
    }
   ],
   "source": [
    "# working with `scaled_data`\n",
    "# from pyspark.ml.evaluation import ClusteringEvaluator\n",
    "costs = {}\n",
    "\n",
    "for k in range(2, 10):\n",
    "    k_means = KMeans(featuresCol='rfm_standardized', k=k)\n",
    "    model = k_means.fit(scaled_data)\n",
    "    costs[k] = model.summary.trainingCost"
   ]
  },
  {
   "cell_type": "code",
   "execution_count": 31,
   "metadata": {
    "execution": {
     "iopub.execute_input": "2023-04-30T06:35:44.998116Z",
     "iopub.status.busy": "2023-04-30T06:35:44.997768Z",
     "iopub.status.idle": "2023-04-30T06:35:45.792415Z",
     "shell.execute_reply": "2023-04-30T06:35:45.791446Z",
     "shell.execute_reply.started": "2023-04-30T06:35:44.998089Z"
    },
    "tags": []
   },
   "outputs": [
    {
     "data": {
      "application/vnd.jupyter.widget-view+json": {
       "model_id": "dba965fde8db4822894024635f66623c",
       "version_major": 2,
       "version_minor": 0
      },
      "text/plain": [
       "VBox()"
      ]
     },
     "metadata": {},
     "output_type": "display_data"
    },
    {
     "data": {
      "application/vnd.jupyter.widget-view+json": {
       "model_id": "",
       "version_major": 2,
       "version_minor": 0
      },
      "text/plain": [
       "FloatProgress(value=0.0, bar_style='info', description='Progress:', layout=Layout(height='25px', width='50%'),…"
      ]
     },
     "metadata": {},
     "output_type": "display_data"
    }
   ],
   "source": [
    "fig, ax = plt.subplots(1, 1, figsize =(16, 8))\n",
    "\n",
    "ax.plot(costs.keys(), costs.values(), '-ob')\n",
    "ax.set_xlabel('k')\n",
    "ax.set_ylabel('cost')\n",
    "\n",
    "# ax.plot(3, costs[3], 'bo')\n",
    "\n",
    "import boto3\n",
    "s3client=boto3.client('s3')\n",
    "fig.savefig('kmeans_cluster_number.png')\n",
    "s3client.upload_file('kmeans_cluster_number.png', 'evo-kmeans-analysis', 'boost-analysis/analysis-results/kmeans_cluster_number.png')"
   ]
  },
  {
   "cell_type": "markdown",
   "metadata": {
    "tags": []
   },
   "source": [
    "# K = 3"
   ]
  },
  {
   "cell_type": "code",
   "execution_count": 32,
   "metadata": {
    "execution": {
     "iopub.execute_input": "2023-04-30T06:35:47.345847Z",
     "iopub.status.busy": "2023-04-30T06:35:47.345439Z",
     "iopub.status.idle": "2023-04-30T06:35:49.661821Z",
     "shell.execute_reply": "2023-04-30T06:35:49.658532Z",
     "shell.execute_reply.started": "2023-04-30T06:35:47.345805Z"
    },
    "tags": []
   },
   "outputs": [
    {
     "data": {
      "application/vnd.jupyter.widget-view+json": {
       "model_id": "82e67598839647bbb1a5af63f7f9ffce",
       "version_major": 2,
       "version_minor": 0
      },
      "text/plain": [
       "VBox()"
      ]
     },
     "metadata": {},
     "output_type": "display_data"
    },
    {
     "data": {
      "application/vnd.jupyter.widget-view+json": {
       "model_id": "",
       "version_major": 2,
       "version_minor": 0
      },
      "text/plain": [
       "FloatProgress(value=0.0, bar_style='info', description='Progress:', layout=Layout(height='25px', width='50%'),…"
      ]
     },
     "metadata": {},
     "output_type": "display_data"
    }
   ],
   "source": [
    "k_means = KMeans(featuresCol='rfm_standardized', k=3)\n",
    "model = k_means.fit(scaled_data)\n",
    "predictions = model.transform(scaled_data)"
   ]
  },
  {
   "cell_type": "code",
   "execution_count": 33,
   "metadata": {
    "execution": {
     "iopub.execute_input": "2023-04-30T06:35:50.331028Z",
     "iopub.status.busy": "2023-04-30T06:35:50.330595Z",
     "iopub.status.idle": "2023-04-30T06:35:51.177851Z",
     "shell.execute_reply": "2023-04-30T06:35:51.176575Z",
     "shell.execute_reply.started": "2023-04-30T06:35:50.330998Z"
    },
    "tags": []
   },
   "outputs": [
    {
     "data": {
      "application/vnd.jupyter.widget-view+json": {
       "model_id": "45410b479ad94ec58e75605ffe0856b3",
       "version_major": 2,
       "version_minor": 0
      },
      "text/plain": [
       "VBox()"
      ]
     },
     "metadata": {},
     "output_type": "display_data"
    },
    {
     "data": {
      "application/vnd.jupyter.widget-view+json": {
       "model_id": "",
       "version_major": 2,
       "version_minor": 0
      },
      "text/plain": [
       "FloatProgress(value=0.0, bar_style='info', description='Progress:', layout=Layout(height='25px', width='50%'),…"
      ]
     },
     "metadata": {},
     "output_type": "display_data"
    },
    {
     "name": "stdout",
     "output_type": "stream",
     "text": [
      "   user_id  prediction\n",
      "0        5           1\n",
      "1       31           2\n",
      "2       75           0\n",
      "3       89           0\n",
      "4      144           1"
     ]
    }
   ],
   "source": [
    "result = predictions.select('user_id', 'prediction')\n",
    "printdf(result)"
   ]
  },
  {
   "cell_type": "code",
   "execution_count": 35,
   "metadata": {
    "execution": {
     "iopub.execute_input": "2023-04-30T06:37:20.722310Z",
     "iopub.status.busy": "2023-04-30T06:37:20.721955Z",
     "iopub.status.idle": "2023-04-30T06:37:32.035011Z",
     "shell.execute_reply": "2023-04-30T06:37:32.034230Z",
     "shell.execute_reply.started": "2023-04-30T06:37:20.722281Z"
    },
    "tags": []
   },
   "outputs": [
    {
     "data": {
      "application/vnd.jupyter.widget-view+json": {
       "model_id": "478afbee77c74eb795091d958a6f0d4b",
       "version_major": 2,
       "version_minor": 0
      },
      "text/plain": [
       "VBox()"
      ]
     },
     "metadata": {},
     "output_type": "display_data"
    },
    {
     "data": {
      "application/vnd.jupyter.widget-view+json": {
       "model_id": "",
       "version_major": 2,
       "version_minor": 0
      },
      "text/plain": [
       "FloatProgress(value=0.0, bar_style='info', description='Progress:', layout=Layout(height='25px', width='50%'),…"
      ]
     },
     "metadata": {},
     "output_type": "display_data"
    }
   ],
   "source": [
    "# Join other information with the prediction result-set\n",
    "\n",
    "rfm_score = spark.read.csv(f's3://athenapyspark-rfm-analysis-result/analysis-results/evo_loyalty_rfm.csv', \n",
    "                           inferSchema=True, \n",
    "                           header=True)\n",
    "rfm_score = rfm_score.select(\"user_id\", \"Recency\", \"Frequency\", \"Monetary\", \"RFM_Score\", \"RFM_ScoreGroup\", \"Loyalty\")\n",
    "# printdf(rfm_score)"
   ]
  },
  {
   "cell_type": "code",
   "execution_count": 36,
   "metadata": {
    "execution": {
     "iopub.execute_input": "2023-04-30T06:37:37.274525Z",
     "iopub.status.busy": "2023-04-30T06:37:37.274203Z",
     "iopub.status.idle": "2023-04-30T06:37:39.552973Z",
     "shell.execute_reply": "2023-04-30T06:37:39.552048Z",
     "shell.execute_reply.started": "2023-04-30T06:37:37.274499Z"
    },
    "tags": []
   },
   "outputs": [
    {
     "data": {
      "application/vnd.jupyter.widget-view+json": {
       "model_id": "4642082a4214420b9eebb374e0b7caf6",
       "version_major": 2,
       "version_minor": 0
      },
      "text/plain": [
       "VBox()"
      ]
     },
     "metadata": {},
     "output_type": "display_data"
    },
    {
     "data": {
      "application/vnd.jupyter.widget-view+json": {
       "model_id": "",
       "version_major": 2,
       "version_minor": 0
      },
      "text/plain": [
       "FloatProgress(value=0.0, bar_style='info', description='Progress:', layout=Layout(height='25px', width='50%'),…"
      ]
     },
     "metadata": {},
     "output_type": "display_data"
    },
    {
     "name": "stdout",
     "output_type": "stream",
     "text": [
      "   user_id  prediction  Recency  ...  RFM_Score  RFM_ScoreGroup   Loyalty\n",
      "0      242           1       74  ...          3             111  Platinum\n",
      "1      280           1      116  ...          3             111  Platinum\n",
      "2      324           2      131  ...          3             111  Platinum\n",
      "3      351           2       63  ...          3             111  Platinum\n",
      "4      378           1       67  ...          3             111  Platinum\n",
      "\n",
      "[5 rows x 8 columns]"
     ]
    }
   ],
   "source": [
    "combined_result = result.join(rfm_score, on='user_id', how='inner')\n",
    "printdf(combined_result)"
   ]
  },
  {
   "cell_type": "code",
   "execution_count": 37,
   "metadata": {
    "execution": {
     "iopub.execute_input": "2023-04-30T06:37:57.727999Z",
     "iopub.status.busy": "2023-04-30T06:37:57.727672Z",
     "iopub.status.idle": "2023-04-30T06:37:58.503107Z",
     "shell.execute_reply": "2023-04-30T06:37:58.502278Z",
     "shell.execute_reply.started": "2023-04-30T06:37:57.727974Z"
    },
    "tags": []
   },
   "outputs": [
    {
     "data": {
      "application/vnd.jupyter.widget-view+json": {
       "model_id": "7103fcaa290745d4b505365059708c65",
       "version_major": 2,
       "version_minor": 0
      },
      "text/plain": [
       "VBox()"
      ]
     },
     "metadata": {},
     "output_type": "display_data"
    },
    {
     "data": {
      "application/vnd.jupyter.widget-view+json": {
       "model_id": "",
       "version_major": 2,
       "version_minor": 0
      },
      "text/plain": [
       "FloatProgress(value=0.0, bar_style='info', description='Progress:', layout=Layout(height='25px', width='50%'),…"
      ]
     },
     "metadata": {},
     "output_type": "display_data"
    },
    {
     "name": "stdout",
     "output_type": "stream",
     "text": [
      "0\n",
      "s3.Object(bucket_name='evo-kmeans-analysis', key='boost-analysis/analysis-results/evo-combined_result_k4.csv')"
     ]
    }
   ],
   "source": [
    "combined_result_df = combined_result.toPandas()\n",
    "import boto3\n",
    "s3 = boto3.resource('s3')\n",
    "bucket = s3.Bucket('evo-kmeans-analysis')\n",
    "import tempfile\n",
    "with tempfile.TemporaryFile(mode='w+t') as f:\n",
    "    # write the DataFrame to the temporary file\n",
    "    combined_result_df.to_csv(f, index=False)\n",
    "    # reset the file pointer to the beginning of the file\n",
    "    f.seek(0)\n",
    "    # upload the file to S3\n",
    "    bucket.put_object(Key='boost-analysis/analysis-results/evo-combined_result_k4.csv', Body=f.read().encode())"
   ]
  },
  {
   "cell_type": "code",
   "execution_count": 38,
   "metadata": {
    "execution": {
     "iopub.execute_input": "2023-04-30T06:38:00.506710Z",
     "iopub.status.busy": "2023-04-30T06:38:00.506293Z",
     "iopub.status.idle": "2023-04-30T06:38:00.771431Z",
     "shell.execute_reply": "2023-04-30T06:38:00.770634Z",
     "shell.execute_reply.started": "2023-04-30T06:38:00.506669Z"
    },
    "tags": []
   },
   "outputs": [
    {
     "data": {
      "application/vnd.jupyter.widget-view+json": {
       "model_id": "2b33a1c5de2f42c69762832fb02fb584",
       "version_major": 2,
       "version_minor": 0
      },
      "text/plain": [
       "VBox()"
      ]
     },
     "metadata": {},
     "output_type": "display_data"
    },
    {
     "data": {
      "application/vnd.jupyter.widget-view+json": {
       "model_id": "",
       "version_major": 2,
       "version_minor": 0
      },
      "text/plain": [
       "FloatProgress(value=0.0, bar_style='info', description='Progress:', layout=Layout(height='25px', width='50%'),…"
      ]
     },
     "metadata": {},
     "output_type": "display_data"
    }
   ],
   "source": [
    "# inspect our loyalty segmentation\n",
    "\n",
    "# combined_result_df = combined_result_df.sort_values(\"RFM_Score\")\n",
    "\n",
    "fig, ax = plt.subplots(1, 1, figsize=(6, 8))\n",
    "\n",
    "sns.countplot(x=\"prediction\", data=combined_result_df)\n",
    "for p in ax.patches:\n",
    "    ax.annotate('{}'.format(p.get_height()), (p.get_x() + 0.3, p.get_height() + 20))\n",
    "    \n",
    "import boto3\n",
    "s3client=boto3.client('s3')\n",
    "fig.savefig('kmeans_prediction.png')\n",
    "s3client.upload_file('kmeans_prediction.png', 'evo-kmeans-analysis', 'boost-analysis/analysis-results/kmeans_prediction.png')"
   ]
  },
  {
   "cell_type": "markdown",
   "metadata": {},
   "source": [
    "# Observation"
   ]
  },
  {
   "cell_type": "code",
   "execution_count": 39,
   "metadata": {
    "execution": {
     "iopub.execute_input": "2023-04-30T06:38:04.880372Z",
     "iopub.status.busy": "2023-04-30T06:38:04.880063Z",
     "iopub.status.idle": "2023-04-30T06:38:05.651103Z",
     "shell.execute_reply": "2023-04-30T06:38:05.650191Z",
     "shell.execute_reply.started": "2023-04-30T06:38:04.880347Z"
    },
    "tags": []
   },
   "outputs": [
    {
     "data": {
      "application/vnd.jupyter.widget-view+json": {
       "model_id": "f87c482096f242a0bcb39c84e035ca64",
       "version_major": 2,
       "version_minor": 0
      },
      "text/plain": [
       "VBox()"
      ]
     },
     "metadata": {},
     "output_type": "display_data"
    },
    {
     "data": {
      "application/vnd.jupyter.widget-view+json": {
       "model_id": "",
       "version_major": 2,
       "version_minor": 0
      },
      "text/plain": [
       "FloatProgress(value=0.0, bar_style='info', description='Progress:', layout=Layout(height='25px', width='50%'),…"
      ]
     },
     "metadata": {},
     "output_type": "display_data"
    }
   ],
   "source": [
    "analysis_df = combined_result.toPandas()\n",
    "\n",
    "fig, ax = plt.subplots(1, 3, figsize=(20, 12))\n",
    "sns.boxplot(x='prediction', y='Recency', data=analysis_df, ax=ax[0])\n",
    "sns.boxplot(x='prediction', y='Frequency', data=analysis_df, ax=ax[1])\n",
    "sns.boxplot(x='prediction', y='Monetary', data=analysis_df, ax=ax[2])\n",
    "\n",
    "import boto3\n",
    "s3client=boto3.client('s3')\n",
    "fig.savefig('kmeans_observation.png')\n",
    "s3client.upload_file('kmeans_observation.png', 'evo-kmeans-analysis', 'boost-analysis/analysis-results/kmeans_observation.png')"
   ]
  },
  {
   "cell_type": "markdown",
   "metadata": {},
   "source": [
    "# Visualization"
   ]
  },
  {
   "cell_type": "code",
   "execution_count": 40,
   "metadata": {
    "execution": {
     "iopub.execute_input": "2023-04-30T06:38:08.713248Z",
     "iopub.status.busy": "2023-04-30T06:38:08.712933Z",
     "iopub.status.idle": "2023-04-30T06:38:09.474565Z",
     "shell.execute_reply": "2023-04-30T06:38:09.473735Z",
     "shell.execute_reply.started": "2023-04-30T06:38:08.713225Z"
    },
    "tags": []
   },
   "outputs": [
    {
     "data": {
      "application/vnd.jupyter.widget-view+json": {
       "model_id": "169739c6641e46358e0681b16576f997",
       "version_major": 2,
       "version_minor": 0
      },
      "text/plain": [
       "VBox()"
      ]
     },
     "metadata": {},
     "output_type": "display_data"
    },
    {
     "data": {
      "application/vnd.jupyter.widget-view+json": {
       "model_id": "",
       "version_major": 2,
       "version_minor": 0
      },
      "text/plain": [
       "FloatProgress(value=0.0, bar_style='info', description='Progress:', layout=Layout(height='25px', width='50%'),…"
      ]
     },
     "metadata": {},
     "output_type": "display_data"
    }
   ],
   "source": [
    "selected_result_df = combined_result_df#.query('Monetary < 100000').query('Frequency < 3000')\n",
    "import boto3\n",
    "s3client=boto3.client('s3')\n",
    "\n",
    "# Monetary vs Recency (combined)\n",
    "fig, ax = plt.subplots(1, 1, figsize=(8, 8))\n",
    "sns.scatterplot(x='Recency', y='Monetary', data=selected_result_df, hue='prediction', palette=\"deep\")\n",
    "fig.savefig('kmeans_Monetary_vs_Recency.png')\n",
    "s3client.upload_file('kmeans_Monetary_vs_Recency.png', 'evo-kmeans-analysis', 'boost-analysis/analysis-results/kmeans_Monetary_vs_Recency.png')\n",
    "\n",
    "# Recency vs Frequency (combined)\n",
    "fig, ax = plt.subplots(1, 1, figsize=(8, 8))\n",
    "sns.scatterplot(x='Recency', y='Frequency', data=selected_result_df, hue='prediction', palette=\"deep\")\n",
    "fig.savefig('kmeans_Recency_vs_Frequency.png')\n",
    "s3client.upload_file('kmeans_Recency_vs_Frequency.png', 'evo-kmeans-analysis', 'boost-analysis/analysis-results/kmeans_Recency_vs_Frequency.png')\n",
    "\n",
    "# Monetary vs Frequency (combined)\n",
    "fig, ax = plt.subplots(1, 1, figsize=(8, 8))\n",
    "sns.scatterplot(x='Monetary', y='Frequency', data=selected_result_df, hue='prediction', palette=\"deep\")\n",
    "fig.savefig('kmeans_Monetary_vs_Frequency.png')\n",
    "s3client.upload_file('kmeans_Monetary_vs_Frequency.png', 'evo-kmeans-analysis', 'boost-analysis/analysis-results/kmeans_Monetary_vs_Frequency.png')\n",
    "\n"
   ]
  },
  {
   "cell_type": "code",
   "execution_count": 41,
   "metadata": {
    "execution": {
     "iopub.execute_input": "2023-04-30T06:38:10.990791Z",
     "iopub.status.busy": "2023-04-30T06:38:10.990465Z",
     "iopub.status.idle": "2023-04-30T06:38:13.310138Z",
     "shell.execute_reply": "2023-04-30T06:38:13.309164Z",
     "shell.execute_reply.started": "2023-04-30T06:38:10.990766Z"
    },
    "tags": []
   },
   "outputs": [
    {
     "data": {
      "application/vnd.jupyter.widget-view+json": {
       "model_id": "019e47b687f341abbbf39f570337c265",
       "version_major": 2,
       "version_minor": 0
      },
      "text/plain": [
       "VBox()"
      ]
     },
     "metadata": {},
     "output_type": "display_data"
    },
    {
     "data": {
      "application/vnd.jupyter.widget-view+json": {
       "model_id": "",
       "version_major": 2,
       "version_minor": 0
      },
      "text/plain": [
       "FloatProgress(value=0.0, bar_style='info', description='Progress:', layout=Layout(height='25px', width='50%'),…"
      ]
     },
     "metadata": {},
     "output_type": "display_data"
    },
    {
     "name": "stdout",
     "output_type": "stream",
     "text": [
      "   prediction  Avg Recency  Avg Frequency  Avg Monetary\n",
      "0           1   145.625000      13.250000  16141.461250\n",
      "1           2   125.954545       6.318182   4371.146136\n",
      "2           0   235.500000       2.500000   1904.366667"
     ]
    }
   ],
   "source": [
    "analysis = combined_result\\\n",
    "    .groupBy('prediction')\\\n",
    "    .agg(F.avg('Recency').alias('Avg Recency'),\n",
    "         F.avg('Frequency').alias('Avg Frequency'),\n",
    "         F.avg('Monetary').alias('Avg Monetary'))\n",
    "printdf(analysis)"
   ]
  },
  {
   "cell_type": "code",
   "execution_count": null,
   "metadata": {},
   "outputs": [],
   "source": []
  },
  {
   "cell_type": "code",
   "execution_count": null,
   "metadata": {},
   "outputs": [],
   "source": []
  }
 ],
 "metadata": {
  "kernelspec": {
   "display_name": "PySpark",
   "language": "python",
   "name": "pysparkkernel"
  },
  "language_info": {
   "codemirror_mode": {
    "name": "python",
    "version": 3
   },
   "file_extension": ".py",
   "mimetype": "text/x-python",
   "name": "pyspark",
   "pygments_lexer": "python3"
  }
 },
 "nbformat": 4,
 "nbformat_minor": 4
}
